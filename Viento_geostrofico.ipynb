{
  "nbformat": 4,
  "nbformat_minor": 0,
  "metadata": {
    "colab": {
      "provenance": [],
      "authorship_tag": "ABX9TyPnSsO/K/oHx/3y/YP5xqwL",
      "include_colab_link": true
    },
    "kernelspec": {
      "name": "python3",
      "display_name": "Python 3"
    },
    "language_info": {
      "name": "python"
    }
  },
  "cells": [
    {
      "cell_type": "markdown",
      "metadata": {
        "id": "view-in-github",
        "colab_type": "text"
      },
      "source": [
        "<a href=\"https://colab.research.google.com/github/alexorri0/Gas_and_Particles_data_analysisis/blob/main/Viento_geostrofico.ipynb\" target=\"_parent\"><img src=\"https://colab.research.google.com/assets/colab-badge.svg\" alt=\"Open In Colab\"/></a>"
      ]
    },
    {
      "cell_type": "code",
      "execution_count": 31,
      "metadata": {
        "colab": {
          "base_uri": "https://localhost:8080/"
        },
        "id": "sCt0WM4Fe0bg",
        "outputId": "c2a41177-acf6-43dd-8700-ae725fa6ac56"
      },
      "outputs": [
        {
          "output_type": "stream",
          "name": "stdout",
          "text": [
            "Convergencia alcanzada después de 14 iteraciones: U_G = 17.258758\n"
          ]
        }
      ],
      "source": [
        "# Parámetros iniciales\n",
        "\n",
        "U_g = 15.81\n",
        "R = 2000000\n",
        "f_c = 1.028e-4\n",
        "\n",
        "# Valor inicial para U_G\n",
        "\n",
        "U_G = 1 # Could be U_g\n",
        "tolerancia = 1e-9  # Criterio de convergencia\n",
        "max_iter = 100000  # Número máximo de iteraciones\n",
        "\n",
        "# Iteración\n",
        "# Canviar el signo de la ecuación entre - ó + dependiendo de si es sistema ciclónico o anticiclónico\n",
        "\n",
        "for i in range(max_iter):\n",
        "    nuevo_U_G = U_g + ((U_G**2) / (R * f_c))\n",
        "\n",
        "    # Check if nuevo_U_G is too large before assigning to U_G\n",
        "    if nuevo_U_G > 1e100:  # Or another suitable threshold\n",
        "        print(\"Divergencia: El valor de U_G se está volviendo demasiado grande.\")\n",
        "        break  # Exit the loop to prevent OverflowError\n",
        "\n",
        "    #print(f\"Diferencia {nuevo_U_G-U_G}\") # Para ver los valores de diferencia\n",
        "\n",
        "\n",
        "    if abs(nuevo_U_G - U_G) < tolerancia:  # Condición de convergencia\n",
        "        break\n",
        "    U_G = nuevo_U_G\n",
        "\n",
        "# Resultado\n",
        "\n",
        "print(f\"Convergencia alcanzada después de {i+1} iteraciones: U_G = {U_G:.6f}\")"
      ]
    }
  ]
}